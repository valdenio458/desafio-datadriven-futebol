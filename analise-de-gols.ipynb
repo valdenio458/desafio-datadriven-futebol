{
 "cells": [
  {
   "cell_type": "code",
   "execution_count": 1,
   "id": "d9b7eaa3",
   "metadata": {},
   "outputs": [],
   "source": [
    "import pandas as pd"
   ]
  },
  {
   "cell_type": "code",
   "execution_count": 2,
   "id": "4e0d943d",
   "metadata": {},
   "outputs": [],
   "source": [
    "dfgols = pd.read_csv(\"campeonato-brasileiro-gols.csv\")"
   ]
  },
  {
   "cell_type": "code",
   "execution_count": null,
   "id": "df82e667",
   "metadata": {},
   "outputs": [],
   "source": [
    "dfgols.head()"
   ]
  },
  {
   "cell_type": "code",
   "execution_count": null,
   "id": "03fc0cab",
   "metadata": {},
   "outputs": [],
   "source": [
    "dfgols.info()"
   ]
  },
  {
   "cell_type": "code",
   "execution_count": null,
   "id": "4b044944",
   "metadata": {},
   "outputs": [],
   "source": [
    "# Verifica quantos gols um certo atleta fez. Neste caso, o atleta Fred\n",
    "gols_fred = (dfgols[\"atleta\"] == \"Fred\").sum()\n",
    "print(gols_fred)\n"
   ]
  },
  {
   "cell_type": "code",
   "execution_count": 4,
   "id": "1468954a",
   "metadata": {},
   "outputs": [
    {
     "name": "stdout",
     "output_type": "stream",
     "text": [
      "Gabriel Barbosa           97\n",
      "Fred                      81\n",
      "Diego Souza               80\n",
      "Luciano da Rocha Neves    64\n",
      "Bruno Henrique            61\n",
      "                          ..\n",
      "Bruno da Silva Costa       1\n",
      "Thiago Santos              1\n",
      "Guilherme Biteco           1\n",
      "Gleison Bremer             1\n",
      "Derik Lacerda              1\n",
      "Name: atleta, Length: 1410, dtype: int64\n"
     ]
    }
   ],
   "source": [
    "#Contar quantos gols cada jogador fez e listar os artilheiro\n",
    "artilheiros = dfgols[\"atleta\"].value_counts()\n",
    "print(artilheiros)"
   ]
  },
  {
   "cell_type": "code",
   "execution_count": null,
   "id": "0ba45853",
   "metadata": {},
   "outputs": [],
   "source": [
    "# Transformando a lista anterior em um dataframe\n",
    "artilheiros_df = dfgols[\"atleta\"].value_counts().reset_index()\n",
    "artilheiros_df.columns = [\"Jogador\", \"Gols\"]\n",
    "print(artilheiros_df)"
   ]
  },
  {
   "cell_type": "code",
   "execution_count": null,
   "id": "dc56c7ea",
   "metadata": {
    "scrolled": true
   },
   "outputs": [],
   "source": [
    "artilheiros_df.head(20)"
   ]
  },
  {
   "cell_type": "code",
   "execution_count": null,
   "id": "fc9696ab",
   "metadata": {},
   "outputs": [],
   "source": [
    "# Exibe gols de Fred por partida (partida_id)\n",
    "gols_fred_por_ano = dfgols[dfgols[\"atleta\"] == \"Fred\"].groupby(\"partida_id\")[\"atleta\"].count()\n",
    "print(gols_fred_por_ano)"
   ]
  },
  {
   "cell_type": "code",
   "execution_count": null,
   "id": "e929a4e2",
   "metadata": {},
   "outputs": [],
   "source": [
    "df_full = pd.read_csv(\"campeonato-brasileiro-full.csv\")"
   ]
  },
  {
   "cell_type": "code",
   "execution_count": null,
   "id": "862ef4a4",
   "metadata": {},
   "outputs": [],
   "source": [
    "df_full.info()"
   ]
  },
  {
   "cell_type": "code",
   "execution_count": null,
   "id": "0f2afa89",
   "metadata": {},
   "outputs": [],
   "source": [
    "# Mostra o número de gols marcados pelo Fred por ano\n",
    "import pandas as pd\n",
    "\n",
    "# Fazer o merge trazendo a data do df_full para dfgols usando as colunas corretas\n",
    "dfgols = dfgols.merge(df_full[[\"ID\", \"data\"]], left_on=\"partida_id\", right_on=\"ID\", how=\"left\")\n",
    "\n",
    "# Converter a coluna 'data' para formato de data\n",
    "dfgols[\"data\"] = pd.to_datetime(dfgols[\"data\"],format=\"%d/%m/%Y\")\n",
    "\n",
    "# Criar uma nova coluna com o ano extraído da data\n",
    "dfgols[\"ano\"] = dfgols[\"data\"].dt.year\n",
    "\n",
    "# Contar os gols do Fred por ano\n",
    "gols_fred_por_ano = dfgols[dfgols[\"atleta\"] == \"Fred\"].groupby(\"ano\")[\"atleta\"].count()\n",
    "\n",
    "# Exibir o resultado\n",
    "print(gols_fred_por_ano)\n"
   ]
  },
  {
   "cell_type": "code",
   "execution_count": null,
   "id": "0b26c505",
   "metadata": {},
   "outputs": [],
   "source": [
    "# Mostra o número de gols marcados pelo Gabigol por ano\n",
    "import pandas as pd\n",
    "\n",
    "# Fazer o merge trazendo a data do df_full para dfgols usando as colunas corretas\n",
    "dfgols = dfgols.merge(df_full[[\"ID\", \"data\"]], left_on=\"partida_id\", right_on=\"ID\", how=\"left\")\n",
    "\n",
    "# Converter a coluna 'data' para formato de data\n",
    "dfgols[\"data\"] = pd.to_datetime(dfgols[\"data\"],format=\"%d/%m/%Y\")\n",
    "\n",
    "# Criar uma nova coluna com o ano extraído da data\n",
    "dfgols[\"ano\"] = dfgols[\"data\"].dt.year\n",
    "\n",
    "# Contar os gols do Fred por ano\n",
    "gols_gabi_por_ano = dfgols[dfgols[\"atleta\"] == \"Gabriel Barbosa\"].groupby(\"ano\")[\"atleta\"].count()\n",
    "\n",
    "# Exibir o resultado\n",
    "print(gols_gabi_por_ano)"
   ]
  },
  {
   "cell_type": "markdown",
   "id": "a0dc2c32",
   "metadata": {},
   "source": [
    "## Conexão com o Power BI"
   ]
  },
  {
   "cell_type": "code",
   "execution_count": null,
   "id": "ba9c6870",
   "metadata": {},
   "outputs": [],
   "source": [
    "# Instala o pacote\n",
    "!pip install -q powerbiclient"
   ]
  },
  {
   "cell_type": "code",
   "execution_count": null,
   "id": "a137b772",
   "metadata": {},
   "outputs": [],
   "source": [
    "# Carrega as funções usadas para autenticar e gerar  relatórios\n",
    "from powerbiclient import QuickVisualize, get_dataset_config, Report\n",
    "from powerbiclient.authentication import DeviceCodeLoginAuthentication"
   ]
  },
  {
   "cell_type": "code",
   "execution_count": null,
   "id": "13253659",
   "metadata": {},
   "outputs": [],
   "source": [
    "# Define a autenticação no Power BI Service\n",
    "device_auth = DeviceCodeLoginAuthentication()"
   ]
  },
  {
   "cell_type": "code",
   "execution_count": null,
   "id": "fa237584",
   "metadata": {},
   "outputs": [],
   "source": [
    "dfgols1 = dfgols.head()"
   ]
  },
  {
   "cell_type": "code",
   "execution_count": null,
   "id": "c75ce6bc",
   "metadata": {},
   "outputs": [],
   "source": [
    "# Cria o relatório no Power BI\n",
    "relatorio_PBI = QuickVisualize(get_dataset_config(dfgols1), auth = device_auth)"
   ]
  },
  {
   "cell_type": "code",
   "execution_count": null,
   "id": "be598ca6",
   "metadata": {},
   "outputs": [],
   "source": [
    "# Renderiza (visualiza) o relatório\n",
    "relatorio_PBI"
   ]
  },
  {
   "cell_type": "code",
   "execution_count": null,
   "id": "ea626a9c",
   "metadata": {},
   "outputs": [],
   "source": []
  }
 ],
 "metadata": {
  "kernelspec": {
   "display_name": "Python 3 (ipykernel)",
   "language": "python",
   "name": "python3"
  },
  "language_info": {
   "codemirror_mode": {
    "name": "ipython",
    "version": 3
   },
   "file_extension": ".py",
   "mimetype": "text/x-python",
   "name": "python",
   "nbconvert_exporter": "python",
   "pygments_lexer": "ipython3",
   "version": "3.9.13"
  }
 },
 "nbformat": 4,
 "nbformat_minor": 5
}
