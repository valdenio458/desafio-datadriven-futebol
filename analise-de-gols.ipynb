{
 "cells": [
  {
   "cell_type": "code",
   "execution_count": 1,
   "id": "d9b7eaa3",
   "metadata": {},
   "outputs": [],
   "source": [
    "import pandas as pd"
   ]
  },
  {
   "cell_type": "code",
   "execution_count": 2,
   "id": "4e0d943d",
   "metadata": {},
   "outputs": [],
   "source": [
    "dfgols = pd.read_csv(\"campeonato-brasileiro-gols.csv\")"
   ]
  },
  {
   "cell_type": "code",
   "execution_count": 3,
   "id": "df82e667",
   "metadata": {},
   "outputs": [
    {
     "data": {
      "text/html": [
       "<div>\n",
       "<style scoped>\n",
       "    .dataframe tbody tr th:only-of-type {\n",
       "        vertical-align: middle;\n",
       "    }\n",
       "\n",
       "    .dataframe tbody tr th {\n",
       "        vertical-align: top;\n",
       "    }\n",
       "\n",
       "    .dataframe thead th {\n",
       "        text-align: right;\n",
       "    }\n",
       "</style>\n",
       "<table border=\"1\" class=\"dataframe\">\n",
       "  <thead>\n",
       "    <tr style=\"text-align: right;\">\n",
       "      <th></th>\n",
       "      <th>partida_id</th>\n",
       "      <th>rodata</th>\n",
       "      <th>clube</th>\n",
       "      <th>atleta</th>\n",
       "      <th>minuto</th>\n",
       "      <th>tipo_de_gol</th>\n",
       "    </tr>\n",
       "  </thead>\n",
       "  <tbody>\n",
       "    <tr>\n",
       "      <th>0</th>\n",
       "      <td>4607</td>\n",
       "      <td>1</td>\n",
       "      <td>Fluminense</td>\n",
       "      <td>Nirley da Silva Fonseca</td>\n",
       "      <td>59</td>\n",
       "      <td>Gol Contra</td>\n",
       "    </tr>\n",
       "    <tr>\n",
       "      <th>1</th>\n",
       "      <td>4607</td>\n",
       "      <td>1</td>\n",
       "      <td>Fluminense</td>\n",
       "      <td>Fred</td>\n",
       "      <td>45</td>\n",
       "      <td>Penalty</td>\n",
       "    </tr>\n",
       "    <tr>\n",
       "      <th>2</th>\n",
       "      <td>4607</td>\n",
       "      <td>1</td>\n",
       "      <td>Fluminense</td>\n",
       "      <td>Rafael Sóbis</td>\n",
       "      <td>31</td>\n",
       "      <td>NaN</td>\n",
       "    </tr>\n",
       "    <tr>\n",
       "      <th>3</th>\n",
       "      <td>4608</td>\n",
       "      <td>1</td>\n",
       "      <td>Internacional</td>\n",
       "      <td>Charles Aránguiz</td>\n",
       "      <td>6</td>\n",
       "      <td>NaN</td>\n",
       "    </tr>\n",
       "    <tr>\n",
       "      <th>4</th>\n",
       "      <td>4612</td>\n",
       "      <td>1</td>\n",
       "      <td>Cruzeiro</td>\n",
       "      <td>Nílton Ferreira Júnior</td>\n",
       "      <td>63</td>\n",
       "      <td>NaN</td>\n",
       "    </tr>\n",
       "  </tbody>\n",
       "</table>\n",
       "</div>"
      ],
      "text/plain": [
       "   partida_id  rodata          clube                   atleta minuto  \\\n",
       "0        4607       1     Fluminense  Nirley da Silva Fonseca     59   \n",
       "1        4607       1     Fluminense                     Fred     45   \n",
       "2        4607       1     Fluminense             Rafael Sóbis     31   \n",
       "3        4608       1  Internacional         Charles Aránguiz      6   \n",
       "4        4612       1       Cruzeiro   Nílton Ferreira Júnior     63   \n",
       "\n",
       "  tipo_de_gol  \n",
       "0  Gol Contra  \n",
       "1     Penalty  \n",
       "2         NaN  \n",
       "3         NaN  \n",
       "4         NaN  "
      ]
     },
     "execution_count": 3,
     "metadata": {},
     "output_type": "execute_result"
    }
   ],
   "source": [
    "dfgols.head()"
   ]
  },
  {
   "cell_type": "code",
   "execution_count": 4,
   "id": "03fc0cab",
   "metadata": {},
   "outputs": [
    {
     "name": "stdout",
     "output_type": "stream",
     "text": [
      "<class 'pandas.core.frame.DataFrame'>\n",
      "RangeIndex: 8932 entries, 0 to 8931\n",
      "Data columns (total 6 columns):\n",
      " #   Column       Non-Null Count  Dtype \n",
      "---  ------       --------------  ----- \n",
      " 0   partida_id   8932 non-null   int64 \n",
      " 1   rodata       8932 non-null   int64 \n",
      " 2   clube        8932 non-null   object\n",
      " 3   atleta       8932 non-null   object\n",
      " 4   minuto       8932 non-null   object\n",
      " 5   tipo_de_gol  1089 non-null   object\n",
      "dtypes: int64(2), object(4)\n",
      "memory usage: 418.8+ KB\n"
     ]
    }
   ],
   "source": [
    "dfgols.info()"
   ]
  },
  {
   "cell_type": "code",
   "execution_count": null,
   "id": "4b044944",
   "metadata": {},
   "outputs": [],
   "source": [
    "# Verifica quantos gols um certo atleta fez. Neste caso, o atleta Fred\n",
    "gols_fred = (dfgols[\"atleta\"] == \"Fred\").sum()\n",
    "print(gols_fred)\n"
   ]
  },
  {
   "cell_type": "code",
   "execution_count": 5,
   "id": "1468954a",
   "metadata": {},
   "outputs": [
    {
     "name": "stdout",
     "output_type": "stream",
     "text": [
      "Gabriel Barbosa           97\n",
      "Fred                      81\n",
      "Diego Souza               80\n",
      "Luciano da Rocha Neves    64\n",
      "Bruno Henrique            61\n",
      "                          ..\n",
      "Bruno da Silva Costa       1\n",
      "Thiago Santos              1\n",
      "Guilherme Biteco           1\n",
      "Gleison Bremer             1\n",
      "Derik Lacerda              1\n",
      "Name: atleta, Length: 1410, dtype: int64\n"
     ]
    }
   ],
   "source": [
    "#Contar quantos gols cada jogador fez e listar os artilheiro\n",
    "artilheiros = dfgols[\"atleta\"].value_counts()\n",
    "print(artilheiros)"
   ]
  },
  {
   "cell_type": "code",
   "execution_count": 6,
   "id": "0ba45853",
   "metadata": {},
   "outputs": [
    {
     "name": "stdout",
     "output_type": "stream",
     "text": [
      "                     Jogador  Gols\n",
      "0            Gabriel Barbosa    97\n",
      "1                       Fred    81\n",
      "2                Diego Souza    80\n",
      "3     Luciano da Rocha Neves    64\n",
      "4             Bruno Henrique    61\n",
      "...                      ...   ...\n",
      "1405    Bruno da Silva Costa     1\n",
      "1406           Thiago Santos     1\n",
      "1407        Guilherme Biteco     1\n",
      "1408          Gleison Bremer     1\n",
      "1409           Derik Lacerda     1\n",
      "\n",
      "[1410 rows x 2 columns]\n"
     ]
    }
   ],
   "source": [
    "# Transformando a lista anterior em um dataframe\n",
    "artilheiros_df = dfgols[\"atleta\"].value_counts().reset_index()\n",
    "artilheiros_df.columns = [\"Jogador\", \"Gols\"]\n",
    "print(artilheiros_df)"
   ]
  },
  {
   "cell_type": "code",
   "execution_count": 7,
   "id": "dc56c7ea",
   "metadata": {
    "scrolled": true
   },
   "outputs": [
    {
     "data": {
      "text/html": [
       "<div>\n",
       "<style scoped>\n",
       "    .dataframe tbody tr th:only-of-type {\n",
       "        vertical-align: middle;\n",
       "    }\n",
       "\n",
       "    .dataframe tbody tr th {\n",
       "        vertical-align: top;\n",
       "    }\n",
       "\n",
       "    .dataframe thead th {\n",
       "        text-align: right;\n",
       "    }\n",
       "</style>\n",
       "<table border=\"1\" class=\"dataframe\">\n",
       "  <thead>\n",
       "    <tr style=\"text-align: right;\">\n",
       "      <th></th>\n",
       "      <th>Jogador</th>\n",
       "      <th>Gols</th>\n",
       "    </tr>\n",
       "  </thead>\n",
       "  <tbody>\n",
       "    <tr>\n",
       "      <th>0</th>\n",
       "      <td>Gabriel Barbosa</td>\n",
       "      <td>97</td>\n",
       "    </tr>\n",
       "    <tr>\n",
       "      <th>1</th>\n",
       "      <td>Fred</td>\n",
       "      <td>81</td>\n",
       "    </tr>\n",
       "    <tr>\n",
       "      <th>2</th>\n",
       "      <td>Diego Souza</td>\n",
       "      <td>80</td>\n",
       "    </tr>\n",
       "    <tr>\n",
       "      <th>3</th>\n",
       "      <td>Luciano da Rocha Neves</td>\n",
       "      <td>64</td>\n",
       "    </tr>\n",
       "    <tr>\n",
       "      <th>4</th>\n",
       "      <td>Bruno Henrique</td>\n",
       "      <td>61</td>\n",
       "    </tr>\n",
       "    <tr>\n",
       "      <th>5</th>\n",
       "      <td>Pedro</td>\n",
       "      <td>61</td>\n",
       "    </tr>\n",
       "    <tr>\n",
       "      <th>6</th>\n",
       "      <td>Eduardo Pereira Rodrigues</td>\n",
       "      <td>56</td>\n",
       "    </tr>\n",
       "    <tr>\n",
       "      <th>7</th>\n",
       "      <td>Ricardo Oliveira</td>\n",
       "      <td>56</td>\n",
       "    </tr>\n",
       "    <tr>\n",
       "      <th>8</th>\n",
       "      <td>Willian Gomes de Siqueira</td>\n",
       "      <td>56</td>\n",
       "    </tr>\n",
       "    <tr>\n",
       "      <th>9</th>\n",
       "      <td>Giorgian De Arrascaeta</td>\n",
       "      <td>54</td>\n",
       "    </tr>\n",
       "    <tr>\n",
       "      <th>10</th>\n",
       "      <td>Gilberto Oliveira Souza Junior</td>\n",
       "      <td>53</td>\n",
       "    </tr>\n",
       "    <tr>\n",
       "      <th>11</th>\n",
       "      <td>Eduardo Sasha</td>\n",
       "      <td>51</td>\n",
       "    </tr>\n",
       "    <tr>\n",
       "      <th>12</th>\n",
       "      <td>Germán Cano</td>\n",
       "      <td>50</td>\n",
       "    </tr>\n",
       "    <tr>\n",
       "      <th>13</th>\n",
       "      <td>Wellington Paulista</td>\n",
       "      <td>49</td>\n",
       "    </tr>\n",
       "    <tr>\n",
       "      <th>14</th>\n",
       "      <td>Raphael Cavalcante Veiga</td>\n",
       "      <td>46</td>\n",
       "    </tr>\n",
       "    <tr>\n",
       "      <th>15</th>\n",
       "      <td>Rafael Moura</td>\n",
       "      <td>46</td>\n",
       "    </tr>\n",
       "    <tr>\n",
       "      <th>16</th>\n",
       "      <td>Hulk</td>\n",
       "      <td>46</td>\n",
       "    </tr>\n",
       "    <tr>\n",
       "      <th>17</th>\n",
       "      <td>Thiago Galhardo</td>\n",
       "      <td>46</td>\n",
       "    </tr>\n",
       "    <tr>\n",
       "      <th>18</th>\n",
       "      <td>Paolo Guerrero</td>\n",
       "      <td>45</td>\n",
       "    </tr>\n",
       "    <tr>\n",
       "      <th>19</th>\n",
       "      <td>Pablo Felipe Teixeira</td>\n",
       "      <td>45</td>\n",
       "    </tr>\n",
       "  </tbody>\n",
       "</table>\n",
       "</div>"
      ],
      "text/plain": [
       "                           Jogador  Gols\n",
       "0                  Gabriel Barbosa    97\n",
       "1                             Fred    81\n",
       "2                      Diego Souza    80\n",
       "3           Luciano da Rocha Neves    64\n",
       "4                   Bruno Henrique    61\n",
       "5                            Pedro    61\n",
       "6        Eduardo Pereira Rodrigues    56\n",
       "7                 Ricardo Oliveira    56\n",
       "8        Willian Gomes de Siqueira    56\n",
       "9           Giorgian De Arrascaeta    54\n",
       "10  Gilberto Oliveira Souza Junior    53\n",
       "11                   Eduardo Sasha    51\n",
       "12                     Germán Cano    50\n",
       "13             Wellington Paulista    49\n",
       "14        Raphael Cavalcante Veiga    46\n",
       "15                    Rafael Moura    46\n",
       "16                            Hulk    46\n",
       "17                 Thiago Galhardo    46\n",
       "18                  Paolo Guerrero    45\n",
       "19           Pablo Felipe Teixeira    45"
      ]
     },
     "execution_count": 7,
     "metadata": {},
     "output_type": "execute_result"
    }
   ],
   "source": [
    "artilheiros_df.head(20)"
   ]
  },
  {
   "cell_type": "code",
   "execution_count": null,
   "id": "fc9696ab",
   "metadata": {},
   "outputs": [],
   "source": [
    "# Exibe gols de Fred por partida (partida_id)\n",
    "gols_fred_por_ano = dfgols[dfgols[\"atleta\"] == \"Fred\"].groupby(\"partida_id\")[\"atleta\"].count()\n",
    "print(gols_fred_por_ano)"
   ]
  },
  {
   "cell_type": "code",
   "execution_count": 11,
   "id": "e929a4e2",
   "metadata": {},
   "outputs": [],
   "source": [
    "df_full = pd.read_csv(\"campeonato-brasileiro-full.csv\")"
   ]
  },
  {
   "cell_type": "code",
   "execution_count": null,
   "id": "862ef4a4",
   "metadata": {},
   "outputs": [],
   "source": [
    "df_full.info()"
   ]
  },
  {
   "cell_type": "code",
   "execution_count": 9,
   "id": "0f2afa89",
   "metadata": {},
   "outputs": [
    {
     "name": "stdout",
     "output_type": "stream",
     "text": [
      "ano\n",
      "2014    18\n",
      "2015    15\n",
      "2016    16\n",
      "2017    13\n",
      "2018     3\n",
      "2019     5\n",
      "2020     3\n",
      "2021     7\n",
      "2022     1\n",
      "Name: atleta, dtype: int64\n"
     ]
    }
   ],
   "source": [
    "# Mostra o número de gols marcados pelo Fred por ano\n",
    "import pandas as pd\n",
    "\n",
    "# Fazer o merge trazendo a data do df_full para dfgols usando as colunas corretas\n",
    "dfgols = dfgols.merge(df_full[[\"ID\", \"data\"]], left_on=\"partida_id\", right_on=\"ID\", how=\"left\")\n",
    "\n",
    "# Converter a coluna 'data' para formato de data\n",
    "dfgols[\"data\"] = pd.to_datetime(dfgols[\"data\"],format=\"%d/%m/%Y\")\n",
    "\n",
    "# Criar uma nova coluna com o ano extraído da data\n",
    "dfgols[\"ano\"] = dfgols[\"data\"].dt.year\n",
    "\n",
    "# Contar os gols do Fred por ano\n",
    "gols_fred_por_ano = dfgols[dfgols[\"atleta\"] == \"Fred\"].groupby(\"ano\")[\"atleta\"].count()\n",
    "\n",
    "# Exibir o resultado\n",
    "print(gols_fred_por_ano)\n"
   ]
  },
  {
   "cell_type": "code",
   "execution_count": 12,
   "id": "0b26c505",
   "metadata": {},
   "outputs": [
    {
     "name": "stdout",
     "output_type": "stream",
     "text": [
      "ano\n",
      "2014     8\n",
      "2015    10\n",
      "2016     5\n",
      "2018    18\n",
      "2019    25\n",
      "2020     7\n",
      "2021    19\n",
      "2023     5\n",
      "Name: atleta, dtype: int64\n"
     ]
    }
   ],
   "source": [
    "# Mostra o número de gols marcados pelo Gabigol por ano\n",
    "import pandas as pd\n",
    "\n",
    "# Fazer o merge trazendo a data do df_full para dfgols usando as colunas corretas\n",
    "dfgols = dfgols.merge(df_full[[\"ID\", \"data\"]], left_on=\"partida_id\", right_on=\"ID\", how=\"left\")\n",
    "\n",
    "# Converter a coluna 'data' para formato de data\n",
    "dfgols[\"data\"] = pd.to_datetime(dfgols[\"data\"],format=\"%d/%m/%Y\")\n",
    "\n",
    "# Criar uma nova coluna com o ano extraído da data\n",
    "dfgols[\"ano\"] = dfgols[\"data\"].dt.year\n",
    "\n",
    "# Contar os gols do Fred por ano\n",
    "gols_gabi_por_ano = dfgols[dfgols[\"atleta\"] == \"Gabriel Barbosa\"].groupby(\"ano\")[\"atleta\"].count()\n",
    "\n",
    "# Exibir o resultado\n",
    "print(gols_gabi_por_ano)"
   ]
  },
  {
   "cell_type": "markdown",
   "id": "a0dc2c32",
   "metadata": {},
   "source": [
    "## Conexão com o Power BI"
   ]
  },
  {
   "cell_type": "code",
   "execution_count": null,
   "id": "ba9c6870",
   "metadata": {},
   "outputs": [],
   "source": [
    "# Instala o pacote\n",
    "!pip install -q powerbiclient"
   ]
  },
  {
   "cell_type": "code",
   "execution_count": null,
   "id": "a137b772",
   "metadata": {},
   "outputs": [],
   "source": [
    "# Carrega as funções usadas para autenticar e gerar  relatórios\n",
    "from powerbiclient import QuickVisualize, get_dataset_config, Report\n",
    "from powerbiclient.authentication import DeviceCodeLoginAuthentication"
   ]
  },
  {
   "cell_type": "code",
   "execution_count": 30,
   "id": "13253659",
   "metadata": {},
   "outputs": [
    {
     "name": "stdout",
     "output_type": "stream",
     "text": [
      "Performing device flow authentication. Please follow the instructions below.\n",
      "To sign in, use a web browser to open the page https://microsoft.com/devicelogin and enter the code E67HV3XNM to authenticate.\n",
      "\n",
      "Device flow authentication successfully completed.\n",
      "You are now logged in .\n",
      "\n",
      "The result should be passed only to trusted code in your notebook.\n"
     ]
    }
   ],
   "source": [
    "# Define a autenticação no Power BI Service\n",
    "device_auth = DeviceCodeLoginAuthentication()"
   ]
  },
  {
   "cell_type": "code",
   "execution_count": 31,
   "id": "fa237584",
   "metadata": {},
   "outputs": [],
   "source": [
    "dfgols1 = dfgols.head()"
   ]
  },
  {
   "cell_type": "code",
   "execution_count": 32,
   "id": "c75ce6bc",
   "metadata": {},
   "outputs": [],
   "source": [
    "# Cria o relatório no Power BI\n",
    "relatorio_PBI = QuickVisualize(get_dataset_config(dfgols1), auth = device_auth)"
   ]
  },
  {
   "cell_type": "code",
   "execution_count": 33,
   "id": "be598ca6",
   "metadata": {},
   "outputs": [
    {
     "data": {
      "application/vnd.jupyter.widget-view+json": {
       "model_id": "7e5dd32efeaa447b85ae62b32e7604fb",
       "version_major": 2,
       "version_minor": 0
      },
      "text/plain": [
       "QuickVisualize()"
      ]
     },
     "metadata": {},
     "output_type": "display_data"
    }
   ],
   "source": [
    "# Renderiza (visualiza) o relatório\n",
    "relatorio_PBI"
   ]
  },
  {
   "cell_type": "code",
   "execution_count": null,
   "id": "ea626a9c",
   "metadata": {},
   "outputs": [],
   "source": []
  }
 ],
 "metadata": {
  "kernelspec": {
   "display_name": "Python 3 (ipykernel)",
   "language": "python",
   "name": "python3"
  },
  "language_info": {
   "codemirror_mode": {
    "name": "ipython",
    "version": 3
   },
   "file_extension": ".py",
   "mimetype": "text/x-python",
   "name": "python",
   "nbconvert_exporter": "python",
   "pygments_lexer": "ipython3",
   "version": "3.9.13"
  }
 },
 "nbformat": 4,
 "nbformat_minor": 5
}
